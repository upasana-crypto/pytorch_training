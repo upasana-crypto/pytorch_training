{
  "nbformat": 4,
  "nbformat_minor": 0,
  "metadata": {
    "colab": {
      "provenance": [],
      "authorship_tag": "ABX9TyNYTglaC7ZsN6FdxZu4QNS/",
      "include_colab_link": true
    },
    "kernelspec": {
      "name": "python3",
      "display_name": "Python 3"
    },
    "language_info": {
      "name": "python"
    },
    "accelerator": "GPU"
  },
  "cells": [
    {
      "cell_type": "markdown",
      "metadata": {
        "id": "view-in-github",
        "colab_type": "text"
      },
      "source": [
        "<a href=\"https://colab.research.google.com/github/upasana-crypto/pytorch_training/blob/main/pytorch_fundamentals.ipynb\" target=\"_parent\"><img src=\"https://colab.research.google.com/assets/colab-badge.svg\" alt=\"Open In Colab\"/></a>"
      ]
    },
    {
      "cell_type": "markdown",
      "source": [
        "we can use google collab or run locally. Collab uses Linux and nvidia GPUs using cuda. Pytorch version 1.10 atleast required"
      ],
      "metadata": {
        "id": "DFfmlsnYc2r_"
      }
    },
    {
      "cell_type": "code",
      "source": [
        "import torch\n",
        "import pandas as pd\n",
        "import numpy as np\n",
        "import matplotlib.pyplot as plt\n",
        "print(torch.__version__)"
      ],
      "metadata": {
        "colab": {
          "base_uri": "https://localhost:8080/"
        },
        "id": "R2t2ELAkdEfA",
        "outputId": "9b11c788-56f8-4aa7-edcc-f4509d050c40"
      },
      "execution_count": null,
      "outputs": [
        {
          "output_type": "stream",
          "name": "stdout",
          "text": [
            "1.12.1+cu113\n"
          ]
        }
      ]
    },
    {
      "cell_type": "markdown",
      "source": [
        "Introduction to tensors: everything in pytorch is a tensor, whether it is a scalar value or something else. Read the doc to understand `torch.tensor`\n"
      ],
      "metadata": {
        "id": "rLtQkMPueofb"
      }
    },
    {
      "cell_type": "code",
      "source": [
        "#scalar\n",
        "scalar = torch.tensor(7)\n",
        "scalar"
      ],
      "metadata": {
        "colab": {
          "base_uri": "https://localhost:8080/"
        },
        "id": "FjIZ2Pe2da-9",
        "outputId": "099cfd3b-0fa5-4902-e126-531c937f6142"
      },
      "execution_count": null,
      "outputs": [
        {
          "output_type": "execute_result",
          "data": {
            "text/plain": [
              "tensor(7)"
            ]
          },
          "metadata": {},
          "execution_count": 12
        }
      ]
    },
    {
      "cell_type": "code",
      "source": [
        "scalar.item()\n",
        "# this is used to convert a tensor into an int"
      ],
      "metadata": {
        "colab": {
          "base_uri": "https://localhost:8080/"
        },
        "id": "Cq_7jSgofcSJ",
        "outputId": "325cd4b4-e975-4603-bdd2-0d0bb9796863"
      },
      "execution_count": null,
      "outputs": [
        {
          "output_type": "execute_result",
          "data": {
            "text/plain": [
              "7"
            ]
          },
          "metadata": {},
          "execution_count": 5
        }
      ]
    },
    {
      "cell_type": "code",
      "source": [
        "scalar.shape"
      ],
      "metadata": {
        "colab": {
          "base_uri": "https://localhost:8080/"
        },
        "id": "IG6cEimHgd44",
        "outputId": "a20492f0-61b5-4b46-d253-d42fe94dbcaa"
      },
      "execution_count": null,
      "outputs": [
        {
          "output_type": "execute_result",
          "data": {
            "text/plain": [
              "torch.Size([])"
            ]
          },
          "metadata": {},
          "execution_count": 13
        }
      ]
    },
    {
      "cell_type": "code",
      "source": [
        "scalar.ndim\n",
        "#scalars do not have any dimension"
      ],
      "metadata": {
        "colab": {
          "base_uri": "https://localhost:8080/"
        },
        "id": "e9SbiwXkfDTi",
        "outputId": "e2e02bf1-027a-45cb-b4b7-cc6ab0913d7d"
      },
      "execution_count": null,
      "outputs": [
        {
          "output_type": "execute_result",
          "data": {
            "text/plain": [
              "0"
            ]
          },
          "metadata": {},
          "execution_count": 4
        }
      ]
    },
    {
      "cell_type": "code",
      "source": [
        "vector= torch.tensor([7,17])\n",
        "#vectors have 1 dimension : dim = no. of pair of square brackets\n",
        "vector"
      ],
      "metadata": {
        "colab": {
          "base_uri": "https://localhost:8080/"
        },
        "id": "X1_DFkCmfn_2",
        "outputId": "93256809-5e47-42f0-8bd7-33a8d430a988"
      },
      "execution_count": null,
      "outputs": [
        {
          "output_type": "execute_result",
          "data": {
            "text/plain": [
              "tensor([ 7, 17])"
            ]
          },
          "metadata": {},
          "execution_count": 8
        }
      ]
    },
    {
      "cell_type": "code",
      "source": [
        "vector.ndim"
      ],
      "metadata": {
        "colab": {
          "base_uri": "https://localhost:8080/"
        },
        "id": "xzd9fYoGf_E1",
        "outputId": "d9f54838-6cb9-4a09-91bc-a8c72a1163e4"
      },
      "execution_count": null,
      "outputs": [
        {
          "output_type": "execute_result",
          "data": {
            "text/plain": [
              "1"
            ]
          },
          "metadata": {},
          "execution_count": 9
        }
      ]
    },
    {
      "cell_type": "code",
      "source": [
        "vector.shape"
      ],
      "metadata": {
        "colab": {
          "base_uri": "https://localhost:8080/"
        },
        "id": "D9SJ0iVIgPdg",
        "outputId": "c1cdaba7-9677-4a8c-b22a-bf6656940137"
      },
      "execution_count": null,
      "outputs": [
        {
          "output_type": "execute_result",
          "data": {
            "text/plain": [
              "torch.Size([2])"
            ]
          },
          "metadata": {},
          "execution_count": 10
        }
      ]
    },
    {
      "cell_type": "markdown",
      "source": [
        "Doubts:\n",
        "\n",
        "Why is the shape of a scalar 0 whereas of a vector 2 and not 1?"
      ],
      "metadata": {
        "id": "w80p9cXthAuP"
      }
    },
    {
      "cell_type": "markdown",
      "source": [
        "torch.tensor only takes one argument so a final [] is imp, don't forget"
      ],
      "metadata": {
        "id": "IeuWkdcTiobl"
      }
    },
    {
      "cell_type": "code",
      "source": [
        " MATRIX= torch.tensor([[7,8],[9,10]])\n",
        " MATRIX"
      ],
      "metadata": {
        "colab": {
          "base_uri": "https://localhost:8080/"
        },
        "id": "vsdyDAvFgRwv",
        "outputId": "14618d16-fe11-4c6b-8d10-4f3460b86f56"
      },
      "execution_count": null,
      "outputs": [
        {
          "output_type": "execute_result",
          "data": {
            "text/plain": [
              "tensor([[ 7,  8],\n",
              "        [ 9, 10]])"
            ]
          },
          "metadata": {},
          "execution_count": 15
        }
      ]
    },
    {
      "cell_type": "code",
      "source": [
        "MATRIX.ndim"
      ],
      "metadata": {
        "colab": {
          "base_uri": "https://localhost:8080/"
        },
        "id": "51AkkBwCibcy",
        "outputId": "0fe05c36-b021-4bae-8a7a-249ffb710f62"
      },
      "execution_count": null,
      "outputs": [
        {
          "output_type": "execute_result",
          "data": {
            "text/plain": [
              "2"
            ]
          },
          "metadata": {},
          "execution_count": 16
        }
      ]
    },
    {
      "cell_type": "code",
      "source": [
        "MATRIX.shape"
      ],
      "metadata": {
        "colab": {
          "base_uri": "https://localhost:8080/"
        },
        "id": "vS-3a5Ppixc6",
        "outputId": "83f245b4-f3f9-4751-d2a8-95dc1cb2dfd0"
      },
      "execution_count": null,
      "outputs": [
        {
          "output_type": "execute_result",
          "data": {
            "text/plain": [
              "torch.Size([2, 2])"
            ]
          },
          "metadata": {},
          "execution_count": 19
        }
      ]
    },
    {
      "cell_type": "code",
      "source": [
        "MATRIX[0]"
      ],
      "metadata": {
        "colab": {
          "base_uri": "https://localhost:8080/"
        },
        "id": "sKytv5Vvizj5",
        "outputId": "ce2bbae0-22e5-4c97-e492-c4d55681bb3c"
      },
      "execution_count": null,
      "outputs": [
        {
          "output_type": "execute_result",
          "data": {
            "text/plain": [
              "tensor([7, 8])"
            ]
          },
          "metadata": {},
          "execution_count": 20
        }
      ]
    },
    {
      "cell_type": "code",
      "source": [
        "MATRIX[1]"
      ],
      "metadata": {
        "colab": {
          "base_uri": "https://localhost:8080/"
        },
        "id": "3DenR-iGjDsq",
        "outputId": "75786448-4c60-4831-c786-6c95a704c5b5"
      },
      "execution_count": null,
      "outputs": [
        {
          "output_type": "execute_result",
          "data": {
            "text/plain": [
              "tensor([ 9, 10])"
            ]
          },
          "metadata": {},
          "execution_count": 21
        }
      ]
    },
    {
      "cell_type": "code",
      "source": [
        "TENSOR = torch.tensor([[[1,2],[2,3]]])"
      ],
      "metadata": {
        "id": "Dxr-6ztcjE2P"
      },
      "execution_count": null,
      "outputs": []
    },
    {
      "cell_type": "code",
      "source": [
        "TENSOR.dtype"
      ],
      "metadata": {
        "colab": {
          "base_uri": "https://localhost:8080/"
        },
        "id": "9dLI-YetRPHF",
        "outputId": "fd550dc0-c25f-41f6-bb0f-fb252309ea95"
      },
      "execution_count": null,
      "outputs": [
        {
          "output_type": "execute_result",
          "data": {
            "text/plain": [
              "torch.int64"
            ]
          },
          "metadata": {},
          "execution_count": 52
        }
      ]
    },
    {
      "cell_type": "code",
      "source": [
        "TENSOR[0]"
      ],
      "metadata": {
        "colab": {
          "base_uri": "https://localhost:8080/"
        },
        "id": "e_wuV50-4CCs",
        "outputId": "8af6aee0-e224-4d4d-e2ff-14bdbfc1e544"
      },
      "execution_count": null,
      "outputs": [
        {
          "output_type": "execute_result",
          "data": {
            "text/plain": [
              "tensor([[1, 2],\n",
              "        [2, 3]])"
            ]
          },
          "metadata": {},
          "execution_count": 23
        }
      ]
    },
    {
      "cell_type": "code",
      "source": [
        "TENSOR[0,1,1]"
      ],
      "metadata": {
        "colab": {
          "base_uri": "https://localhost:8080/"
        },
        "id": "PxjhuoV14GbN",
        "outputId": "956689dc-1ee5-4427-e99e-8a01a040658a"
      },
      "execution_count": null,
      "outputs": [
        {
          "output_type": "execute_result",
          "data": {
            "text/plain": [
              "tensor(3)"
            ]
          },
          "metadata": {},
          "execution_count": 41
        }
      ]
    },
    {
      "cell_type": "code",
      "source": [
        "TENSOR.ndim"
      ],
      "metadata": {
        "colab": {
          "base_uri": "https://localhost:8080/"
        },
        "id": "AiQSCJE64M72",
        "outputId": "5660d267-49e3-42a5-fc9e-1903fd20e445"
      },
      "execution_count": null,
      "outputs": [
        {
          "output_type": "execute_result",
          "data": {
            "text/plain": [
              "3"
            ]
          },
          "metadata": {},
          "execution_count": 26
        }
      ]
    },
    {
      "cell_type": "code",
      "source": [
        "TENSOR.shape"
      ],
      "metadata": {
        "colab": {
          "base_uri": "https://localhost:8080/"
        },
        "id": "55-e4IO84Wn6",
        "outputId": "ed51ab27-af04-481c-e172-87ae6daf4e00"
      },
      "execution_count": null,
      "outputs": [
        {
          "output_type": "execute_result",
          "data": {
            "text/plain": [
              "torch.Size([1, 2, 2])"
            ]
          },
          "metadata": {},
          "execution_count": 27
        }
      ]
    },
    {
      "cell_type": "code",
      "source": [
        "random_tensor = torch.rand(2,3,4)\n",
        "random_tensor"
      ],
      "metadata": {
        "colab": {
          "base_uri": "https://localhost:8080/"
        },
        "id": "GRzfRRqs4nJx",
        "outputId": "ccd870d5-5d54-499f-8ee5-3b5a78407a6a"
      },
      "execution_count": null,
      "outputs": [
        {
          "output_type": "execute_result",
          "data": {
            "text/plain": [
              "tensor([[[0.4760, 0.1288, 0.1198, 0.8123],\n",
              "         [0.8250, 0.9848, 0.8244, 0.4792],\n",
              "         [0.7463, 0.2438, 0.8739, 0.4594]],\n",
              "\n",
              "        [[0.6481, 0.8929, 0.8493, 0.7381],\n",
              "         [0.4639, 0.7442, 0.7157, 0.2848],\n",
              "         [0.7082, 0.8931, 0.0271, 0.2239]]])"
            ]
          },
          "metadata": {},
          "execution_count": 38
        }
      ]
    },
    {
      "cell_type": "code",
      "source": [
        "random_tensor[1,1,1]"
      ],
      "metadata": {
        "colab": {
          "base_uri": "https://localhost:8080/"
        },
        "id": "Cfd8Gl1w5owG",
        "outputId": "9f4ca0e4-6b3b-4bf0-f1fc-c92942a0ed5b"
      },
      "execution_count": null,
      "outputs": [
        {
          "output_type": "execute_result",
          "data": {
            "text/plain": [
              "tensor(0.7442)"
            ]
          },
          "metadata": {},
          "execution_count": 40
        }
      ]
    },
    {
      "cell_type": "markdown",
      "source": [
        "if not explicitly mentioned, these tensor data type is always float32"
      ],
      "metadata": {
        "id": "G8n8zg5r6rl2"
      }
    },
    {
      "cell_type": "code",
      "source": [
        "zeroes = torch.zeros(3,4)\n",
        "zeroes"
      ],
      "metadata": {
        "colab": {
          "base_uri": "https://localhost:8080/"
        },
        "id": "1h-P30hR6NVZ",
        "outputId": "f4b9147a-f17b-459a-abbf-65c9db838d1c"
      },
      "execution_count": null,
      "outputs": [
        {
          "output_type": "execute_result",
          "data": {
            "text/plain": [
              "tensor([[0., 0., 0., 0.],\n",
              "        [0., 0., 0., 0.],\n",
              "        [0., 0., 0., 0.]])"
            ]
          },
          "metadata": {},
          "execution_count": 43
        }
      ]
    },
    {
      "cell_type": "code",
      "source": [
        "zeroes.dtype"
      ],
      "metadata": {
        "colab": {
          "base_uri": "https://localhost:8080/"
        },
        "id": "v9Zgto9gRWaN",
        "outputId": "2ca7d91e-7529-4ebd-b943-0bc05f681112"
      },
      "execution_count": null,
      "outputs": [
        {
          "output_type": "execute_result",
          "data": {
            "text/plain": [
              "torch.float32"
            ]
          },
          "metadata": {},
          "execution_count": 53
        }
      ]
    },
    {
      "cell_type": "code",
      "source": [
        "ones = torch.ones(3,4)\n",
        "ones"
      ],
      "metadata": {
        "colab": {
          "base_uri": "https://localhost:8080/"
        },
        "id": "FUl0TnYv67nb",
        "outputId": "5a1dabbf-60d4-4dc4-886d-3a2d07da8994"
      },
      "execution_count": null,
      "outputs": [
        {
          "output_type": "execute_result",
          "data": {
            "text/plain": [
              "tensor([[1., 1., 1., 1.],\n",
              "        [1., 1., 1., 1.],\n",
              "        [1., 1., 1., 1.]])"
            ]
          },
          "metadata": {},
          "execution_count": 44
        }
      ]
    },
    {
      "cell_type": "markdown",
      "source": [
        "arange(start,end+1,step)"
      ],
      "metadata": {
        "id": "5_Wkp_UP7d6p"
      }
    },
    {
      "cell_type": "code",
      "source": [
        "one_to_ten = torch.arange(0,11,2)\n",
        "one_to_ten"
      ],
      "metadata": {
        "colab": {
          "base_uri": "https://localhost:8080/"
        },
        "id": "gvTOWiXZ7E0w",
        "outputId": "1e50c72f-51c5-4c38-e0d3-b5bb3126fe3a"
      },
      "execution_count": null,
      "outputs": [
        {
          "output_type": "execute_result",
          "data": {
            "text/plain": [
              "tensor([ 0,  2,  4,  6,  8, 10])"
            ]
          },
          "metadata": {},
          "execution_count": 48
        }
      ]
    },
    {
      "cell_type": "code",
      "source": [
        "ten_zeroes = torch.zeros_like(one_to_ten)\n",
        "ten_zeroes"
      ],
      "metadata": {
        "colab": {
          "base_uri": "https://localhost:8080/"
        },
        "id": "S2vPmta17MKB",
        "outputId": "3af36fd2-0057-4713-f94c-76655b7c2d17"
      },
      "execution_count": null,
      "outputs": [
        {
          "output_type": "execute_result",
          "data": {
            "text/plain": [
              "tensor([0, 0, 0, 0, 0, 0])"
            ]
          },
          "metadata": {},
          "execution_count": 49
        }
      ]
    },
    {
      "cell_type": "markdown",
      "source": [
        "These are tensor attributes so properties of a class that the tensor belongs to. if we use size we need torch.size(), which means it is a function\n",
        "\n",
        "The most common errors faced are with tensor datatypes:\n",
        "1. Tensors are not of the right datatype, 32 multiplied with 16 etc. ```torch.dtype```\n",
        "2. Tensors not of the right shape ``torch.shape``\n",
        "3. Tensors are not on the right device, one is on GPU another on CPU so not possible to have operations with them ``torch.device``"
      ],
      "metadata": {
        "id": "EZ6wswkHe904"
      }
    },
    {
      "cell_type": "code",
      "source": [
        "float_32_tensor = torch.tensor([3,6,9], dtype=None # type of the data eg., float16 or 32 = precision with which a number can be used can be useful for memory\n",
        "                               ,device=None, requires_grad=False)\n",
        "float_32_tensor.device"
      ],
      "metadata": {
        "colab": {
          "base_uri": "https://localhost:8080/"
        },
        "id": "zAu2WcL5P6BV",
        "outputId": "4694a24e-c7c0-4e45-e313-82187767eba8"
      },
      "execution_count": null,
      "outputs": [
        {
          "output_type": "execute_result",
          "data": {
            "text/plain": [
              "device(type='cpu')"
            ]
          },
          "metadata": {},
          "execution_count": 13
        }
      ]
    },
    {
      "cell_type": "code",
      "source": [
        "float_32_tensor.type(torch.float16)"
      ],
      "metadata": {
        "colab": {
          "base_uri": "https://localhost:8080/"
        },
        "id": "wlUYrVV0QgBY",
        "outputId": "96361cf4-d5d3-408b-f5e4-b9a8cd83a03a"
      },
      "execution_count": null,
      "outputs": [
        {
          "output_type": "execute_result",
          "data": {
            "text/plain": [
              "tensor([3., 6., 9.], dtype=torch.float16)"
            ]
          },
          "metadata": {},
          "execution_count": 5
        }
      ]
    },
    {
      "cell_type": "code",
      "source": [
        "rand_tensor = torch.rand(1,2)\n",
        "rand_tensor"
      ],
      "metadata": {
        "colab": {
          "base_uri": "https://localhost:8080/"
        },
        "id": "t9zhFBbuQqT8",
        "outputId": "0dd3bc66-2632-412e-969e-9b1b0fe5758a"
      },
      "execution_count": null,
      "outputs": [
        {
          "output_type": "execute_result",
          "data": {
            "text/plain": [
              "tensor([[0.4904, 0.3436]])"
            ]
          },
          "metadata": {},
          "execution_count": 4
        }
      ]
    },
    {
      "cell_type": "code",
      "source": [
        "print(rand_tensor)\n",
        "print(f\"datatype:\", rand_tensor.dtype)\n",
        "print(\"shape:\", rand_tensor.shape)\n",
        "print(\"device:\", rand_tensor.device)"
      ],
      "metadata": {
        "colab": {
          "base_uri": "https://localhost:8080/"
        },
        "id": "AhcXk3YRh70B",
        "outputId": "fcb1203b-79ea-4336-9229-c3de5f8a28ec"
      },
      "execution_count": null,
      "outputs": [
        {
          "output_type": "stream",
          "name": "stdout",
          "text": [
            "tensor([[0.4904, 0.3436]])\n",
            "datatype: torch.float32\n",
            "shape: torch.Size([1, 2])\n",
            "device: cpu\n"
          ]
        }
      ]
    },
    {
      "cell_type": "code",
      "source": [
        "new=torch.tensor([2,3])"
      ],
      "metadata": {
        "id": "cy8hdY1FiKbv"
      },
      "execution_count": null,
      "outputs": []
    },
    {
      "cell_type": "code",
      "source": [
        "new*10"
      ],
      "metadata": {
        "colab": {
          "base_uri": "https://localhost:8080/"
        },
        "id": "qYIKVOqUtEkB",
        "outputId": "fb726ee4-c9a5-4c7a-9221-a76e19cba325"
      },
      "execution_count": null,
      "outputs": [
        {
          "output_type": "execute_result",
          "data": {
            "text/plain": [
              "tensor([20, 30])"
            ]
          },
          "metadata": {},
          "execution_count": 17
        }
      ]
    },
    {
      "cell_type": "code",
      "source": [
        "new+10"
      ],
      "metadata": {
        "colab": {
          "base_uri": "https://localhost:8080/"
        },
        "id": "3115h_aSulS_",
        "outputId": "e5ee70c2-6ad5-4cda-b44c-9a4e9dea5d5a"
      },
      "execution_count": null,
      "outputs": [
        {
          "output_type": "execute_result",
          "data": {
            "text/plain": [
              "tensor([12, 13])"
            ]
          },
          "metadata": {},
          "execution_count": 18
        }
      ]
    },
    {
      "cell_type": "code",
      "source": [
        "new-1"
      ],
      "metadata": {
        "colab": {
          "base_uri": "https://localhost:8080/"
        },
        "id": "rUPw-Mu6u1uY",
        "outputId": "4ecb5996-bc2e-4a8a-9eea-cb51730dae03"
      },
      "execution_count": null,
      "outputs": [
        {
          "output_type": "execute_result",
          "data": {
            "text/plain": [
              "tensor([1, 2])"
            ]
          },
          "metadata": {},
          "execution_count": 21
        }
      ]
    },
    {
      "cell_type": "code",
      "source": [
        "torch.mul(new,10)"
      ],
      "metadata": {
        "colab": {
          "base_uri": "https://localhost:8080/"
        },
        "id": "FW6DG3BcuoO5",
        "outputId": "556289a4-60ab-4bd8-e949-fc72d2c48d2d"
      },
      "execution_count": null,
      "outputs": [
        {
          "output_type": "execute_result",
          "data": {
            "text/plain": [
              "tensor([20, 30])"
            ]
          },
          "metadata": {},
          "execution_count": 19
        }
      ]
    },
    {
      "cell_type": "code",
      "source": [
        "torch.add(new,10)"
      ],
      "metadata": {
        "colab": {
          "base_uri": "https://localhost:8080/"
        },
        "id": "r3CDF0w0uvWx",
        "outputId": "457b22f2-4046-4118-c37f-1a4f4d20eb1e"
      },
      "execution_count": null,
      "outputs": [
        {
          "output_type": "execute_result",
          "data": {
            "text/plain": [
              "tensor([12, 13])"
            ]
          },
          "metadata": {},
          "execution_count": 20
        }
      ]
    },
    {
      "cell_type": "code",
      "source": [
        "torch.subtract(new,1)"
      ],
      "metadata": {
        "colab": {
          "base_uri": "https://localhost:8080/"
        },
        "id": "zB9u_3Zyuz4e",
        "outputId": "d54b377c-0ca3-4d28-f43b-c010d455bf80"
      },
      "execution_count": null,
      "outputs": [
        {
          "output_type": "execute_result",
          "data": {
            "text/plain": [
              "tensor([1, 2])"
            ]
          },
          "metadata": {},
          "execution_count": 23
        }
      ]
    },
    {
      "cell_type": "markdown",
      "source": [
        "Two ways of multiplication in deep learning:\n",
        "1. element-wise multiplication\n",
        "2. matrix-multiplication (also called dot-product)"
      ],
      "metadata": {
        "id": "VPGqdFSSvHwg"
      }
    },
    {
      "cell_type": "code",
      "source": [
        "a = torch.tensor([1,2])\n",
        "b = torch.tensor([2,3])\n",
        "ele_mul = a*b\n",
        "ele_mul"
      ],
      "metadata": {
        "colab": {
          "base_uri": "https://localhost:8080/"
        },
        "id": "YpuuxHuuvTTq",
        "outputId": "68ac3fb2-6a61-43ed-f3a0-08aee36bf761"
      },
      "execution_count": null,
      "outputs": [
        {
          "output_type": "execute_result",
          "data": {
            "text/plain": [
              "tensor([2, 6])"
            ]
          },
          "metadata": {},
          "execution_count": 25
        }
      ]
    },
    {
      "cell_type": "code",
      "source": [
        "torch.mul(a,b)"
      ],
      "metadata": {
        "colab": {
          "base_uri": "https://localhost:8080/"
        },
        "id": "Wk014bftveFd",
        "outputId": "a8de61ef-850b-4df2-ea1a-a38cb6a919d0"
      },
      "execution_count": null,
      "outputs": [
        {
          "output_type": "execute_result",
          "data": {
            "text/plain": [
              "tensor([2, 6])"
            ]
          },
          "metadata": {},
          "execution_count": 27
        }
      ]
    },
    {
      "cell_type": "code",
      "source": [
        "torch.dot(a,b)"
      ],
      "metadata": {
        "colab": {
          "base_uri": "https://localhost:8080/"
        },
        "id": "ZlEdBawgvo3E",
        "outputId": "54d08d50-f9d6-49c4-bf9a-0e20a15ddb88"
      },
      "execution_count": null,
      "outputs": [
        {
          "output_type": "execute_result",
          "data": {
            "text/plain": [
              "tensor(8)"
            ]
          },
          "metadata": {},
          "execution_count": 28
        }
      ]
    },
    {
      "cell_type": "code",
      "source": [
        "%%time\n",
        "torch.matmul(a,b)"
      ],
      "metadata": {
        "colab": {
          "base_uri": "https://localhost:8080/"
        },
        "id": "nkDYzYNXvvCS",
        "outputId": "4a6dab4d-30a9-4e5d-c1b7-9631edac3793"
      },
      "execution_count": null,
      "outputs": [
        {
          "output_type": "stream",
          "name": "stdout",
          "text": [
            "CPU times: user 485 µs, sys: 0 ns, total: 485 µs\n",
            "Wall time: 282 µs\n"
          ]
        },
        {
          "output_type": "execute_result",
          "data": {
            "text/plain": [
              "tensor(8)"
            ]
          },
          "metadata": {},
          "execution_count": 31
        }
      ]
    },
    {
      "cell_type": "code",
      "source": [
        "# use %%time to see how much time it will take to run a particular cell\n",
        "%%time\n",
        "value=0\n",
        "for i in range(len(a)):\n",
        "  value+=a[i]*b[i]\n",
        "\n",
        "print(value)"
      ],
      "metadata": {
        "colab": {
          "base_uri": "https://localhost:8080/"
        },
        "id": "beLuYElowMS7",
        "outputId": "ab950d19-e74d-4dc5-c7b8-974af30b3ddd"
      },
      "execution_count": null,
      "outputs": [
        {
          "output_type": "stream",
          "name": "stdout",
          "text": [
            "tensor(8)\n",
            "CPU times: user 3.66 ms, sys: 0 ns, total: 3.66 ms\n",
            "Wall time: 3.46 ms\n"
          ]
        }
      ]
    },
    {
      "cell_type": "code",
      "source": [
        "import torch"
      ],
      "metadata": {
        "id": "dLycIXDtb_6P"
      },
      "execution_count": 1,
      "outputs": []
    },
    {
      "cell_type": "code",
      "source": [
        "# matmul is shortened to mm\n",
        "tensor_A = torch.tensor([[1,1]])\n",
        "tensor_B = torch.tensor([[1,1]])\n",
        "mul= torch.matmul(tensor_A, tensor_B.T)\n",
        "mul1 = torch.mm(tensor_A, tensor_B.T)\n",
        "print(mul,mul1)"
      ],
      "metadata": {
        "colab": {
          "base_uri": "https://localhost:8080/"
        },
        "id": "RHvXIlRUxGjN",
        "outputId": "540e913e-ccd6-4457-db31-157b882743fc"
      },
      "execution_count": null,
      "outputs": [
        {
          "output_type": "stream",
          "name": "stdout",
          "text": [
            "tensor([[2]]) tensor([[2]])\n"
          ]
        }
      ]
    },
    {
      "cell_type": "markdown",
      "source": [
        "Tensor Aggregation"
      ],
      "metadata": {
        "id": "qGwov75_fExI"
      }
    },
    {
      "cell_type": "code",
      "source": [
        "series= torch.arange(0,11,2)\n",
        "print(f\"value of series:\\n {series} \")\n"
      ],
      "metadata": {
        "colab": {
          "base_uri": "https://localhost:8080/"
        },
        "id": "tBRDeJHvb7Ja",
        "outputId": "e5839e3c-079c-489e-8890-565661148cf9"
      },
      "execution_count": null,
      "outputs": [
        {
          "output_type": "stream",
          "name": "stdout",
          "text": [
            "value of series:\n",
            " tensor([ 0,  2,  4,  6,  8, 10]) \n"
          ]
        }
      ]
    },
    {
      "cell_type": "code",
      "source": [
        "torch.min(series), series.min()"
      ],
      "metadata": {
        "colab": {
          "base_uri": "https://localhost:8080/"
        },
        "id": "3abuhU0idDTR",
        "outputId": "2e29cea0-1bd4-48a4-800c-be21f9c6f5d7"
      },
      "execution_count": null,
      "outputs": [
        {
          "output_type": "execute_result",
          "data": {
            "text/plain": [
              "(tensor(0), tensor(0))"
            ]
          },
          "metadata": {},
          "execution_count": 10
        }
      ]
    },
    {
      "cell_type": "code",
      "source": [
        "torch.max(series), series.max()"
      ],
      "metadata": {
        "colab": {
          "base_uri": "https://localhost:8080/"
        },
        "id": "UtITSJA7dffL",
        "outputId": "26a8b5c1-b7bc-4155-abfb-3879957448a9"
      },
      "execution_count": null,
      "outputs": [
        {
          "output_type": "execute_result",
          "data": {
            "text/plain": [
              "(tensor(10), tensor(10))"
            ]
          },
          "metadata": {},
          "execution_count": 11
        }
      ]
    },
    {
      "cell_type": "markdown",
      "source": [],
      "metadata": {
        "id": "UdLsMUA3d9Bu"
      }
    },
    {
      "cell_type": "code",
      "source": [
        "torch.mean(series.type(torch.float32)), series.type(torch.float32).mean()"
      ],
      "metadata": {
        "colab": {
          "base_uri": "https://localhost:8080/"
        },
        "id": "tPJxd30PdjZM",
        "outputId": "59c94254-5fc2-4d0a-c252-50259907fda5"
      },
      "execution_count": null,
      "outputs": [
        {
          "output_type": "execute_result",
          "data": {
            "text/plain": [
              "(tensor(5.), tensor(5.))"
            ]
          },
          "metadata": {},
          "execution_count": 4
        }
      ]
    },
    {
      "cell_type": "code",
      "source": [
        "torch.sum(series), series.sum()"
      ],
      "metadata": {
        "colab": {
          "base_uri": "https://localhost:8080/"
        },
        "id": "rrpY3DIWdnwK",
        "outputId": "c9bce03a-a275-4984-c0a5-6a8fcbdd1e02"
      },
      "execution_count": null,
      "outputs": [
        {
          "output_type": "execute_result",
          "data": {
            "text/plain": [
              "(tensor(30), tensor(30))"
            ]
          },
          "metadata": {},
          "execution_count": 5
        }
      ]
    },
    {
      "cell_type": "markdown",
      "source": [
        "Tensor positional aggregate= index value of min and max element will be useful for softmax in deep learning"
      ],
      "metadata": {
        "id": "cwnXJG5ofK-4"
      }
    },
    {
      "cell_type": "code",
      "source": [
        "series.argmax(), torch.argmax(series)"
      ],
      "metadata": {
        "colab": {
          "base_uri": "https://localhost:8080/"
        },
        "id": "8WoFWJ4Rez5m",
        "outputId": "0c6d4ce1-73c5-4f33-a850-2e0514f88f4f"
      },
      "execution_count": null,
      "outputs": [
        {
          "output_type": "execute_result",
          "data": {
            "text/plain": [
              "(tensor(5), tensor(5))"
            ]
          },
          "metadata": {},
          "execution_count": 6
        }
      ]
    },
    {
      "cell_type": "code",
      "source": [
        "series.argmin(), torch.argmin(series)"
      ],
      "metadata": {
        "colab": {
          "base_uri": "https://localhost:8080/"
        },
        "id": "1bcKmi_3fXFE",
        "outputId": "682f138a-ce44-4927-d595-0f68aba90591"
      },
      "execution_count": null,
      "outputs": [
        {
          "output_type": "execute_result",
          "data": {
            "text/plain": [
              "(tensor(0), tensor(0))"
            ]
          },
          "metadata": {},
          "execution_count": 8
        }
      ]
    },
    {
      "cell_type": "code",
      "source": [],
      "metadata": {
        "id": "cStRKIP5fmEp"
      },
      "execution_count": null,
      "outputs": []
    },
    {
      "cell_type": "markdown",
      "source": [
        "Reshaping, view (comes from the same memory)stacking, squeezing (remove all 1 dimensions from a tensor and unsqueezing (adding a 1 dimension to a tensor), permute tensors"
      ],
      "metadata": {
        "id": "jjcobSGdgInH"
      }
    },
    {
      "cell_type": "code",
      "source": [
        "series_reshaped= series.reshape(1,6)\n",
        "series_reshaped, series_reshaped.shape"
      ],
      "metadata": {
        "colab": {
          "base_uri": "https://localhost:8080/"
        },
        "id": "k6PaUuW0gQWN",
        "outputId": "86f0be99-f707-45d2-8397-9776c7788cdb"
      },
      "execution_count": null,
      "outputs": [
        {
          "output_type": "execute_result",
          "data": {
            "text/plain": [
              "(tensor([[ 0,  2,  4,  6,  8, 10]]), torch.Size([1, 6]))"
            ]
          },
          "metadata": {},
          "execution_count": 9
        }
      ]
    },
    {
      "cell_type": "code",
      "source": [
        "series_reshaped= series.reshape(6,1)\n",
        "series_reshaped, series_reshaped.shape"
      ],
      "metadata": {
        "colab": {
          "base_uri": "https://localhost:8080/"
        },
        "id": "kCd0hToYhleR",
        "outputId": "a9146c2d-b22b-4b00-e32d-daa2e75af13a"
      },
      "execution_count": null,
      "outputs": [
        {
          "output_type": "execute_result",
          "data": {
            "text/plain": [
              "(tensor([[ 0],\n",
              "         [ 2],\n",
              "         [ 4],\n",
              "         [ 6],\n",
              "         [ 8],\n",
              "         [10]]), torch.Size([6, 1]))"
            ]
          },
          "metadata": {},
          "execution_count": 10
        }
      ]
    },
    {
      "cell_type": "code",
      "source": [
        "series_reshaped= series.reshape(3,2)\n",
        "series_reshaped, series_reshaped.shape"
      ],
      "metadata": {
        "colab": {
          "base_uri": "https://localhost:8080/"
        },
        "id": "C-RGmnkihu6q",
        "outputId": "6c710214-986c-4cd7-d370-cae10a6c7e5a"
      },
      "execution_count": null,
      "outputs": [
        {
          "output_type": "execute_result",
          "data": {
            "text/plain": [
              "(tensor([[ 0,  2],\n",
              "         [ 4,  6],\n",
              "         [ 8, 10]]), torch.Size([3, 2]))"
            ]
          },
          "metadata": {},
          "execution_count": 11
        }
      ]
    },
    {
      "cell_type": "code",
      "source": [
        "z=series.view(1,6)\n",
        "z"
      ],
      "metadata": {
        "colab": {
          "base_uri": "https://localhost:8080/"
        },
        "id": "kXrj_Qcuhypo",
        "outputId": "189246a5-6b10-429a-cf2e-5b05bf70ab09"
      },
      "execution_count": null,
      "outputs": [
        {
          "output_type": "execute_result",
          "data": {
            "text/plain": [
              "tensor([[ 0,  2,  4,  6,  8, 10]])"
            ]
          },
          "metadata": {},
          "execution_count": 13
        }
      ]
    },
    {
      "cell_type": "markdown",
      "source": [
        "z shares the same memory as series so if we change series, z also changes, it is just a view of series\n",
        "\n"
      ],
      "metadata": {
        "id": "P0OQoI2uiIL7"
      }
    },
    {
      "cell_type": "code",
      "source": [
        "z[:,5]=1\n",
        "series"
      ],
      "metadata": {
        "colab": {
          "base_uri": "https://localhost:8080/"
        },
        "id": "LGBO23YciFw9",
        "outputId": "ec3092f7-8a69-4c52-a8e7-88500080e41f"
      },
      "execution_count": null,
      "outputs": [
        {
          "output_type": "execute_result",
          "data": {
            "text/plain": [
              "tensor([0, 2, 4, 6, 8, 1])"
            ]
          },
          "metadata": {},
          "execution_count": 14
        }
      ]
    },
    {
      "cell_type": "code",
      "source": [
        "x= torch.tensor([1,2])\n",
        "x = x.reshape(1,2)\n",
        "\n"
      ],
      "metadata": {
        "id": "bd5AnsF8iZpU"
      },
      "execution_count": 24,
      "outputs": []
    },
    {
      "cell_type": "code",
      "source": [
        "x_hstack=torch.stack([x,x,x,x], dim=0)\n",
        "x_hstack, x_hstack.shape"
      ],
      "metadata": {
        "colab": {
          "base_uri": "https://localhost:8080/"
        },
        "id": "X0oJ5EU9CKDP",
        "outputId": "dd927719-b222-43f0-db8a-8e19564115b0"
      },
      "execution_count": 8,
      "outputs": [
        {
          "output_type": "execute_result",
          "data": {
            "text/plain": [
              "(tensor([[1, 2],\n",
              "         [1, 2],\n",
              "         [1, 2],\n",
              "         [1, 2]]), torch.Size([4, 2]))"
            ]
          },
          "metadata": {},
          "execution_count": 8
        }
      ]
    },
    {
      "cell_type": "code",
      "source": [
        "x_vstack=torch.stack([x,x,x,x], dim=1)\n",
        "x_vstack, x_vstack.shape"
      ],
      "metadata": {
        "colab": {
          "base_uri": "https://localhost:8080/"
        },
        "id": "Q9VvP-ApCVcQ",
        "outputId": "ccc44452-d370-455d-f05a-f73d41426d9b"
      },
      "execution_count": 9,
      "outputs": [
        {
          "output_type": "execute_result",
          "data": {
            "text/plain": [
              "(tensor([[1, 1, 1, 1],\n",
              "         [2, 2, 2, 2]]), torch.Size([2, 4]))"
            ]
          },
          "metadata": {},
          "execution_count": 9
        }
      ]
    },
    {
      "cell_type": "code",
      "source": [
        "torch.hstack([x,x,x,x])"
      ],
      "metadata": {
        "colab": {
          "base_uri": "https://localhost:8080/"
        },
        "id": "Em0WRvP3C4Va",
        "outputId": "859b93e0-316e-4954-98bc-fe3745ec15cf"
      },
      "execution_count": 13,
      "outputs": [
        {
          "output_type": "execute_result",
          "data": {
            "text/plain": [
              "tensor([1, 2, 1, 2, 1, 2, 1, 2])"
            ]
          },
          "metadata": {},
          "execution_count": 13
        }
      ]
    },
    {
      "cell_type": "code",
      "source": [
        "torch.vstack([x,x,x,x])"
      ],
      "metadata": {
        "colab": {
          "base_uri": "https://localhost:8080/"
        },
        "id": "qGiwQnmWC9gg",
        "outputId": "5c43b613-e655-4435-dd7c-9e76a07de2c0"
      },
      "execution_count": 14,
      "outputs": [
        {
          "output_type": "execute_result",
          "data": {
            "text/plain": [
              "tensor([[1, 2],\n",
              "        [1, 2],\n",
              "        [1, 2],\n",
              "        [1, 2]])"
            ]
          },
          "metadata": {},
          "execution_count": 14
        }
      ]
    },
    {
      "cell_type": "code",
      "source": [
        "x_squeeze = x.squeeze()\n",
        "x.shape, x_squeeze.shape\n"
      ],
      "metadata": {
        "colab": {
          "base_uri": "https://localhost:8080/"
        },
        "id": "jFZVPZ3vEGeo",
        "outputId": "7cf0b889-ada7-49b3-e9d5-a7030c45fdf2"
      },
      "execution_count": 25,
      "outputs": [
        {
          "output_type": "execute_result",
          "data": {
            "text/plain": [
              "(torch.Size([1, 2]), torch.Size([2]))"
            ]
          },
          "metadata": {},
          "execution_count": 25
        }
      ]
    },
    {
      "cell_type": "code",
      "source": [
        "x_unsqueeze = x.unsqueeze(dim = 2)\n",
        "x_unsqueeze.shape"
      ],
      "metadata": {
        "colab": {
          "base_uri": "https://localhost:8080/"
        },
        "id": "oIdgyS84F7sS",
        "outputId": "031a2530-76da-47f6-e82f-21df103945ca"
      },
      "execution_count": 30,
      "outputs": [
        {
          "output_type": "execute_result",
          "data": {
            "text/plain": [
              "torch.Size([1, 2, 1])"
            ]
          },
          "metadata": {},
          "execution_count": 30
        }
      ]
    },
    {
      "cell_type": "code",
      "source": [
        " x_permute = x.permute(1,0)\n",
        " x_permute.shape"
      ],
      "metadata": {
        "colab": {
          "base_uri": "https://localhost:8080/"
        },
        "id": "SKsh-cXSGxp3",
        "outputId": "c9d19066-5668-4d40-dbff-23f942cda92f"
      },
      "execution_count": 35,
      "outputs": [
        {
          "output_type": "execute_result",
          "data": {
            "text/plain": [
              "torch.Size([2, 1])"
            ]
          },
          "metadata": {},
          "execution_count": 35
        }
      ]
    },
    {
      "cell_type": "code",
      "source": [
        "x_permute[1,0] = 5\n",
        "x"
      ],
      "metadata": {
        "colab": {
          "base_uri": "https://localhost:8080/"
        },
        "id": "Qd0KGle8Hvj_",
        "outputId": "9e0781ee-3fa6-4bdf-ccfb-15c4ca380144"
      },
      "execution_count": 38,
      "outputs": [
        {
          "output_type": "execute_result",
          "data": {
            "text/plain": [
              "tensor([[1, 5]])"
            ]
          },
          "metadata": {},
          "execution_count": 38
        }
      ]
    },
    {
      "cell_type": "markdown",
      "source": [
        "Pytorch tensors and Numpy and how they interact with each other. We start with data in numpy array but later we need it in pytorch tensor"
      ],
      "metadata": {
        "id": "Qx8hnMA0IhN5"
      }
    },
    {
      "cell_type": "code",
      "source": [
        "import numpy as np"
      ],
      "metadata": {
        "id": "WA4b3TVWJNe1"
      },
      "execution_count": 39,
      "outputs": []
    },
    {
      "cell_type": "code",
      "source": [
        "array = np.arange(1.0, 8.0)\n",
        "array"
      ],
      "metadata": {
        "colab": {
          "base_uri": "https://localhost:8080/"
        },
        "id": "Cl88Dq0BJUI_",
        "outputId": "8dfc54b5-25e3-4494-b1aa-65d5425aab9f"
      },
      "execution_count": 41,
      "outputs": [
        {
          "output_type": "execute_result",
          "data": {
            "text/plain": [
              "array([1., 2., 3., 4., 5., 6., 7.])"
            ]
          },
          "metadata": {},
          "execution_count": 41
        }
      ]
    },
    {
      "cell_type": "code",
      "source": [
        "tensor = torch.from_numpy(array)\n",
        "tensor"
      ],
      "metadata": {
        "colab": {
          "base_uri": "https://localhost:8080/"
        },
        "id": "MKBlkqf4JhOr",
        "outputId": "91a922a7-9c4f-4a25-a09d-82a4b340b97a"
      },
      "execution_count": 42,
      "outputs": [
        {
          "output_type": "execute_result",
          "data": {
            "text/plain": [
              "tensor([1., 2., 3., 4., 5., 6., 7.], dtype=torch.float64)"
            ]
          },
          "metadata": {},
          "execution_count": 42
        }
      ]
    },
    {
      "cell_type": "markdown",
      "source": [
        "Reproducibility using random seed\n"
      ],
      "metadata": {
        "id": "eWLRGwPmLi4s"
      }
    },
    {
      "cell_type": "code",
      "source": [
        "RANDOM_SEED =42\n",
        "torch.manual_seed(RANDOM_SEED)\n",
        "\n",
        "a= torch.rand(1,2)\n",
        "torch.manual_seed(RANDOM_SEED)\n",
        "b= torch.rand(1,2)\n",
        "a,b"
      ],
      "metadata": {
        "colab": {
          "base_uri": "https://localhost:8080/"
        },
        "id": "I7Ld4di2JsMa",
        "outputId": "1f358c7d-f8d8-411d-b4b4-1635485a1dc4"
      },
      "execution_count": 43,
      "outputs": [
        {
          "output_type": "execute_result",
          "data": {
            "text/plain": [
              "(tensor([[0.8823, 0.9150]]), tensor([[0.8823, 0.9150]]))"
            ]
          },
          "metadata": {},
          "execution_count": 43
        }
      ]
    },
    {
      "cell_type": "code",
      "source": [
        "!nvidia-smi"
      ],
      "metadata": {
        "colab": {
          "base_uri": "https://localhost:8080/"
        },
        "id": "py6-D1MELOPC",
        "outputId": "a86088f6-cdc1-454f-cfca-009e40098121"
      },
      "execution_count": 1,
      "outputs": [
        {
          "output_type": "stream",
          "name": "stdout",
          "text": [
            "Sun Oct  2 19:43:24 2022       \n",
            "+-----------------------------------------------------------------------------+\n",
            "| NVIDIA-SMI 460.32.03    Driver Version: 460.32.03    CUDA Version: 11.2     |\n",
            "|-------------------------------+----------------------+----------------------+\n",
            "| GPU  Name        Persistence-M| Bus-Id        Disp.A | Volatile Uncorr. ECC |\n",
            "| Fan  Temp  Perf  Pwr:Usage/Cap|         Memory-Usage | GPU-Util  Compute M. |\n",
            "|                               |                      |               MIG M. |\n",
            "|===============================+======================+======================|\n",
            "|   0  Tesla T4            Off  | 00000000:00:04.0 Off |                    0 |\n",
            "| N/A   50C    P8    10W /  70W |      0MiB / 15109MiB |      0%      Default |\n",
            "|                               |                      |                  N/A |\n",
            "+-------------------------------+----------------------+----------------------+\n",
            "                                                                               \n",
            "+-----------------------------------------------------------------------------+\n",
            "| Processes:                                                                  |\n",
            "|  GPU   GI   CI        PID   Type   Process name                  GPU Memory |\n",
            "|        ID   ID                                                   Usage      |\n",
            "|=============================================================================|\n",
            "|  No running processes found                                                 |\n",
            "+-----------------------------------------------------------------------------+\n"
          ]
        }
      ]
    },
    {
      "cell_type": "code",
      "source": [
        "import torch\n",
        "torch.cuda.is_available()"
      ],
      "metadata": {
        "colab": {
          "base_uri": "https://localhost:8080/"
        },
        "id": "DrkqQU3KMx51",
        "outputId": "3bd2ee37-4d5f-46d8-c354-12e6aeead8eb"
      },
      "execution_count": 3,
      "outputs": [
        {
          "output_type": "execute_result",
          "data": {
            "text/plain": [
              "True"
            ]
          },
          "metadata": {},
          "execution_count": 3
        }
      ]
    },
    {
      "cell_type": "markdown",
      "source": [
        "Use device agnostic code"
      ],
      "metadata": {
        "id": "tl6KwSdUPQHZ"
      }
    },
    {
      "cell_type": "code",
      "source": [
        "device = \"cuda\" if torch.cuda.is_available() else \"cpu\"\n",
        "device"
      ],
      "metadata": {
        "colab": {
          "base_uri": "https://localhost:8080/",
          "height": 36
        },
        "id": "U70MxLgMPoIA",
        "outputId": "281bb506-a0cb-48e1-d2d1-84f4f3651e5b"
      },
      "execution_count": 4,
      "outputs": [
        {
          "output_type": "execute_result",
          "data": {
            "text/plain": [
              "'cuda'"
            ],
            "application/vnd.google.colaboratory.intrinsic+json": {
              "type": "string"
            }
          },
          "metadata": {},
          "execution_count": 4
        }
      ]
    },
    {
      "cell_type": "markdown",
      "source": [
        "we can run one model on one gpu and another on the other, so knowing the number of gpus can be helpful."
      ],
      "metadata": {
        "id": "dTN5SvKaQQhZ"
      }
    },
    {
      "cell_type": "code",
      "source": [
        "torch.cuda.device_count()"
      ],
      "metadata": {
        "colab": {
          "base_uri": "https://localhost:8080/"
        },
        "id": "M5Q1yZ__P_O4",
        "outputId": "8840f1e0-33d8-420d-c566-4639f5c5a229"
      },
      "execution_count": 5,
      "outputs": [
        {
          "output_type": "execute_result",
          "data": {
            "text/plain": [
              "1"
            ]
          },
          "metadata": {},
          "execution_count": 5
        }
      ]
    },
    {
      "cell_type": "code",
      "source": [
        "tensor =torch.rand(1,2)\n",
        "tensor_on_gpu = tensor.to(device)\n",
        "tensor_on_gpu"
      ],
      "metadata": {
        "colab": {
          "base_uri": "https://localhost:8080/"
        },
        "id": "81Ts7uarQJ3f",
        "outputId": "358a23cd-9d8f-4dc6-e7c7-7e82d99026a1"
      },
      "execution_count": 7,
      "outputs": [
        {
          "output_type": "execute_result",
          "data": {
            "text/plain": [
              "tensor([[0.7062, 0.3419]], device='cuda:0')"
            ]
          },
          "metadata": {},
          "execution_count": 7
        }
      ]
    },
    {
      "cell_type": "markdown",
      "source": [
        "the numpy arrays work only on cpus and not gpus so first we need to convert tensors on gpus to cpus and then convert them to numpy arrays"
      ],
      "metadata": {
        "id": "IHUXPPMbTCKY"
      }
    },
    {
      "cell_type": "code",
      "source": [
        "tensor_on_gpu.cpu().numpy()"
      ],
      "metadata": {
        "colab": {
          "base_uri": "https://localhost:8080/"
        },
        "id": "oQibqDKkSMDm",
        "outputId": "d31b2cb1-27cb-4b5a-8c71-9552bee367cd"
      },
      "execution_count": 9,
      "outputs": [
        {
          "output_type": "execute_result",
          "data": {
            "text/plain": [
              "array([[0.7062283 , 0.34186774]], dtype=float32)"
            ]
          },
          "metadata": {},
          "execution_count": 9
        }
      ]
    },
    {
      "cell_type": "code",
      "source": [],
      "metadata": {
        "id": "Nqy4xuH1ScIV"
      },
      "execution_count": null,
      "outputs": []
    }
  ]
}